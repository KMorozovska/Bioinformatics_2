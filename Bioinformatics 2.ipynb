{
 "cells": [
  {
   "cell_type": "code",
   "execution_count": 273,
   "metadata": {},
   "outputs": [],
   "source": [
    "import pandas as pd\n",
    "import numpy as np\n",
    "import pybedtools\n",
    "import matplotlib.pyplot as plt"
   ]
  },
  {
   "cell_type": "markdown",
   "metadata": {},
   "source": [
    "## Import data"
   ]
  },
  {
   "cell_type": "code",
   "execution_count": 274,
   "metadata": {},
   "outputs": [],
   "source": [
    "chr_sizes_path = \"./chromosome_sizes.txt\"\n",
    "cpg_island_path = \"./cpgIslandExt.txt\"\n",
    "dna_methyl_path = \"./wgEncodeHaibMethyl450A549Etoh02SitesRep1.bed\""
   ]
  },
  {
   "cell_type": "code",
   "execution_count": 275,
   "metadata": {},
   "outputs": [],
   "source": [
    "chr_sizes_df = pd.read_csv(chr_sizes_path, sep='\\t', header=None)\n",
    "cpg_island_df = pd.read_csv(cpg_island_path, sep='\\t', header=None)\n",
    "dna_methyl_df = pd.read_csv(dna_methyl_path, sep='\\t', header=None)"
   ]
  },
  {
   "cell_type": "code",
   "execution_count": 276,
   "metadata": {},
   "outputs": [
    {
     "data": {
      "text/html": [
       "<div>\n",
       "<style scoped>\n",
       "    .dataframe tbody tr th:only-of-type {\n",
       "        vertical-align: middle;\n",
       "    }\n",
       "\n",
       "    .dataframe tbody tr th {\n",
       "        vertical-align: top;\n",
       "    }\n",
       "\n",
       "    .dataframe thead th {\n",
       "        text-align: right;\n",
       "    }\n",
       "</style>\n",
       "<table border=\"1\" class=\"dataframe\">\n",
       "  <thead>\n",
       "    <tr style=\"text-align: right;\">\n",
       "      <th></th>\n",
       "      <th>0</th>\n",
       "      <th>1</th>\n",
       "    </tr>\n",
       "  </thead>\n",
       "  <tbody>\n",
       "    <tr>\n",
       "      <th>0</th>\n",
       "      <td>chr1</td>\n",
       "      <td>249250621</td>\n",
       "    </tr>\n",
       "    <tr>\n",
       "      <th>1</th>\n",
       "      <td>chr10</td>\n",
       "      <td>135534747</td>\n",
       "    </tr>\n",
       "    <tr>\n",
       "      <th>2</th>\n",
       "      <td>chr11</td>\n",
       "      <td>135006516</td>\n",
       "    </tr>\n",
       "    <tr>\n",
       "      <th>3</th>\n",
       "      <td>chr12</td>\n",
       "      <td>133851895</td>\n",
       "    </tr>\n",
       "    <tr>\n",
       "      <th>4</th>\n",
       "      <td>chr13</td>\n",
       "      <td>115169878</td>\n",
       "    </tr>\n",
       "  </tbody>\n",
       "</table>\n",
       "</div>"
      ],
      "text/plain": [
       "       0          1\n",
       "0   chr1  249250621\n",
       "1  chr10  135534747\n",
       "2  chr11  135006516\n",
       "3  chr12  133851895\n",
       "4  chr13  115169878"
      ]
     },
     "execution_count": 276,
     "metadata": {},
     "output_type": "execute_result"
    }
   ],
   "source": [
    "chr_sizes_df.head()"
   ]
  },
  {
   "cell_type": "code",
   "execution_count": 277,
   "metadata": {},
   "outputs": [
    {
     "data": {
      "text/html": [
       "<div>\n",
       "<style scoped>\n",
       "    .dataframe tbody tr th:only-of-type {\n",
       "        vertical-align: middle;\n",
       "    }\n",
       "\n",
       "    .dataframe tbody tr th {\n",
       "        vertical-align: top;\n",
       "    }\n",
       "\n",
       "    .dataframe thead th {\n",
       "        text-align: right;\n",
       "    }\n",
       "</style>\n",
       "<table border=\"1\" class=\"dataframe\">\n",
       "  <thead>\n",
       "    <tr style=\"text-align: right;\">\n",
       "      <th></th>\n",
       "      <th>0</th>\n",
       "      <th>1</th>\n",
       "      <th>2</th>\n",
       "      <th>3</th>\n",
       "      <th>4</th>\n",
       "      <th>5</th>\n",
       "      <th>6</th>\n",
       "      <th>7</th>\n",
       "      <th>8</th>\n",
       "      <th>9</th>\n",
       "      <th>10</th>\n",
       "    </tr>\n",
       "  </thead>\n",
       "  <tbody>\n",
       "    <tr>\n",
       "      <th>0</th>\n",
       "      <td>585</td>\n",
       "      <td>chr1</td>\n",
       "      <td>28735</td>\n",
       "      <td>29810</td>\n",
       "      <td>CpG: 116</td>\n",
       "      <td>1075</td>\n",
       "      <td>116</td>\n",
       "      <td>787</td>\n",
       "      <td>21.6</td>\n",
       "      <td>73.2</td>\n",
       "      <td>0.83</td>\n",
       "    </tr>\n",
       "    <tr>\n",
       "      <th>1</th>\n",
       "      <td>586</td>\n",
       "      <td>chr1</td>\n",
       "      <td>135124</td>\n",
       "      <td>135563</td>\n",
       "      <td>CpG: 30</td>\n",
       "      <td>439</td>\n",
       "      <td>30</td>\n",
       "      <td>295</td>\n",
       "      <td>13.7</td>\n",
       "      <td>67.2</td>\n",
       "      <td>0.64</td>\n",
       "    </tr>\n",
       "    <tr>\n",
       "      <th>2</th>\n",
       "      <td>587</td>\n",
       "      <td>chr1</td>\n",
       "      <td>327790</td>\n",
       "      <td>328229</td>\n",
       "      <td>CpG: 29</td>\n",
       "      <td>439</td>\n",
       "      <td>29</td>\n",
       "      <td>295</td>\n",
       "      <td>13.2</td>\n",
       "      <td>67.2</td>\n",
       "      <td>0.62</td>\n",
       "    </tr>\n",
       "    <tr>\n",
       "      <th>3</th>\n",
       "      <td>588</td>\n",
       "      <td>chr1</td>\n",
       "      <td>437151</td>\n",
       "      <td>438164</td>\n",
       "      <td>CpG: 84</td>\n",
       "      <td>1013</td>\n",
       "      <td>84</td>\n",
       "      <td>734</td>\n",
       "      <td>16.6</td>\n",
       "      <td>72.5</td>\n",
       "      <td>0.64</td>\n",
       "    </tr>\n",
       "    <tr>\n",
       "      <th>4</th>\n",
       "      <td>588</td>\n",
       "      <td>chr1</td>\n",
       "      <td>449273</td>\n",
       "      <td>450544</td>\n",
       "      <td>CpG: 99</td>\n",
       "      <td>1271</td>\n",
       "      <td>99</td>\n",
       "      <td>777</td>\n",
       "      <td>15.6</td>\n",
       "      <td>61.1</td>\n",
       "      <td>0.84</td>\n",
       "    </tr>\n",
       "  </tbody>\n",
       "</table>\n",
       "</div>"
      ],
      "text/plain": [
       "    0     1       2       3         4     5    6    7     8     9     10\n",
       "0  585  chr1   28735   29810  CpG: 116  1075  116  787  21.6  73.2  0.83\n",
       "1  586  chr1  135124  135563   CpG: 30   439   30  295  13.7  67.2  0.64\n",
       "2  587  chr1  327790  328229   CpG: 29   439   29  295  13.2  67.2  0.62\n",
       "3  588  chr1  437151  438164   CpG: 84  1013   84  734  16.6  72.5  0.64\n",
       "4  588  chr1  449273  450544   CpG: 99  1271   99  777  15.6  61.1  0.84"
      ]
     },
     "execution_count": 277,
     "metadata": {},
     "output_type": "execute_result"
    }
   ],
   "source": [
    "cpg_island_df.head()"
   ]
  },
  {
   "cell_type": "code",
   "execution_count": 278,
   "metadata": {
    "scrolled": true
   },
   "outputs": [
    {
     "data": {
      "text/html": [
       "<div>\n",
       "<style scoped>\n",
       "    .dataframe tbody tr th:only-of-type {\n",
       "        vertical-align: middle;\n",
       "    }\n",
       "\n",
       "    .dataframe tbody tr th {\n",
       "        vertical-align: top;\n",
       "    }\n",
       "\n",
       "    .dataframe thead th {\n",
       "        text-align: right;\n",
       "    }\n",
       "</style>\n",
       "<table border=\"1\" class=\"dataframe\">\n",
       "  <thead>\n",
       "    <tr style=\"text-align: right;\">\n",
       "      <th></th>\n",
       "      <th>0</th>\n",
       "      <th>1</th>\n",
       "      <th>2</th>\n",
       "      <th>3</th>\n",
       "      <th>4</th>\n",
       "      <th>5</th>\n",
       "      <th>6</th>\n",
       "      <th>7</th>\n",
       "      <th>8</th>\n",
       "    </tr>\n",
       "  </thead>\n",
       "  <tbody>\n",
       "    <tr>\n",
       "      <th>0</th>\n",
       "      <td>chr16</td>\n",
       "      <td>53468112</td>\n",
       "      <td>53468162</td>\n",
       "      <td>cg00000029</td>\n",
       "      <td>486</td>\n",
       "      <td>+</td>\n",
       "      <td>53468112</td>\n",
       "      <td>53468162</td>\n",
       "      <td>128,0,128</td>\n",
       "    </tr>\n",
       "    <tr>\n",
       "      <th>1</th>\n",
       "      <td>chr3</td>\n",
       "      <td>37459206</td>\n",
       "      <td>37459256</td>\n",
       "      <td>cg00000108</td>\n",
       "      <td>916</td>\n",
       "      <td>+</td>\n",
       "      <td>37459206</td>\n",
       "      <td>37459256</td>\n",
       "      <td>255,127,0</td>\n",
       "    </tr>\n",
       "    <tr>\n",
       "      <th>2</th>\n",
       "      <td>chr3</td>\n",
       "      <td>171916037</td>\n",
       "      <td>171916087</td>\n",
       "      <td>cg00000109</td>\n",
       "      <td>815</td>\n",
       "      <td>+</td>\n",
       "      <td>171916037</td>\n",
       "      <td>171916087</td>\n",
       "      <td>255,127,0</td>\n",
       "    </tr>\n",
       "    <tr>\n",
       "      <th>3</th>\n",
       "      <td>chr1</td>\n",
       "      <td>91194674</td>\n",
       "      <td>91194724</td>\n",
       "      <td>cg00000165</td>\n",
       "      <td>806</td>\n",
       "      <td>-</td>\n",
       "      <td>91194674</td>\n",
       "      <td>91194724</td>\n",
       "      <td>255,127,0</td>\n",
       "    </tr>\n",
       "    <tr>\n",
       "      <th>4</th>\n",
       "      <td>chr8</td>\n",
       "      <td>42263294</td>\n",
       "      <td>42263344</td>\n",
       "      <td>cg00000236</td>\n",
       "      <td>843</td>\n",
       "      <td>-</td>\n",
       "      <td>42263294</td>\n",
       "      <td>42263344</td>\n",
       "      <td>255,127,0</td>\n",
       "    </tr>\n",
       "  </tbody>\n",
       "</table>\n",
       "</div>"
      ],
      "text/plain": [
       "       0          1          2           3    4  5          6          7  \\\n",
       "0  chr16   53468112   53468162  cg00000029  486  +   53468112   53468162   \n",
       "1   chr3   37459206   37459256  cg00000108  916  +   37459206   37459256   \n",
       "2   chr3  171916037  171916087  cg00000109  815  +  171916037  171916087   \n",
       "3   chr1   91194674   91194724  cg00000165  806  -   91194674   91194724   \n",
       "4   chr8   42263294   42263344  cg00000236  843  -   42263294   42263344   \n",
       "\n",
       "           8  \n",
       "0  128,0,128  \n",
       "1  255,127,0  \n",
       "2  255,127,0  \n",
       "3  255,127,0  \n",
       "4  255,127,0  "
      ]
     },
     "execution_count": 278,
     "metadata": {},
     "output_type": "execute_result"
    }
   ],
   "source": [
    "dna_methyl_df.head()"
   ]
  },
  {
   "cell_type": "markdown",
   "metadata": {},
   "source": [
    "## Prepare right dataframes"
   ]
  },
  {
   "cell_type": "code",
   "execution_count": 279,
   "metadata": {},
   "outputs": [],
   "source": [
    "cpg_island_df = cpg_island_df[[1,2,3]].rename({1:'chr_id', 2:'start', 3:'stop'}, axis=1).sort_values(by=['chr_id', 'start'])"
   ]
  },
  {
   "cell_type": "code",
   "execution_count": 280,
   "metadata": {},
   "outputs": [],
   "source": [
    "dna_methyl_df = dna_methyl_df[[0,1,2]].rename({0:'chr_id', 1:'start', 2:'stop'}, axis=1).sort_values(by=['chr_id', 'start'])"
   ]
  },
  {
   "cell_type": "code",
   "execution_count": 281,
   "metadata": {},
   "outputs": [],
   "source": [
    "chr_sizes_df = chr_sizes_df.rename({0:'chr_id', 1:'size'}, axis=1).sort_values(by=['chr_id'])"
   ]
  },
  {
   "cell_type": "code",
   "execution_count": 282,
   "metadata": {},
   "outputs": [],
   "source": [
    "dna_methyl_df['middle'] = dna_methyl_df['start']+((dna_methyl_df['stop'] - dna_methyl_df['start'])/2).astype(int)"
   ]
  },
  {
   "cell_type": "code",
   "execution_count": 283,
   "metadata": {},
   "outputs": [
    {
     "data": {
      "text/html": [
       "<div>\n",
       "<style scoped>\n",
       "    .dataframe tbody tr th:only-of-type {\n",
       "        vertical-align: middle;\n",
       "    }\n",
       "\n",
       "    .dataframe tbody tr th {\n",
       "        vertical-align: top;\n",
       "    }\n",
       "\n",
       "    .dataframe thead th {\n",
       "        text-align: right;\n",
       "    }\n",
       "</style>\n",
       "<table border=\"1\" class=\"dataframe\">\n",
       "  <thead>\n",
       "    <tr style=\"text-align: right;\">\n",
       "      <th></th>\n",
       "      <th>chr_id</th>\n",
       "      <th>middle</th>\n",
       "    </tr>\n",
       "  </thead>\n",
       "  <tbody>\n",
       "    <tr>\n",
       "      <th>0</th>\n",
       "      <td>chr1</td>\n",
       "      <td>1.012691e+08</td>\n",
       "    </tr>\n",
       "    <tr>\n",
       "      <th>1</th>\n",
       "      <td>chr10</td>\n",
       "      <td>7.670546e+07</td>\n",
       "    </tr>\n",
       "    <tr>\n",
       "      <th>2</th>\n",
       "      <td>chr11</td>\n",
       "      <td>6.094695e+07</td>\n",
       "    </tr>\n",
       "    <tr>\n",
       "      <th>3</th>\n",
       "      <td>chr12</td>\n",
       "      <td>7.372054e+07</td>\n",
       "    </tr>\n",
       "    <tr>\n",
       "      <th>4</th>\n",
       "      <td>chr13</td>\n",
       "      <td>7.151071e+07</td>\n",
       "    </tr>\n",
       "  </tbody>\n",
       "</table>\n",
       "</div>"
      ],
      "text/plain": [
       "  chr_id        middle\n",
       "0   chr1  1.012691e+08\n",
       "1  chr10  7.670546e+07\n",
       "2  chr11  6.094695e+07\n",
       "3  chr12  7.372054e+07\n",
       "4  chr13  7.151071e+07"
      ]
     },
     "execution_count": 283,
     "metadata": {},
     "output_type": "execute_result"
    }
   ],
   "source": [
    "dna_methyl_df.groupby('chr_id')['middle'].mean().reset_index().head()"
   ]
  },
  {
   "cell_type": "code",
   "execution_count": 284,
   "metadata": {
    "scrolled": true
   },
   "outputs": [
    {
     "data": {
      "text/html": [
       "<div>\n",
       "<style scoped>\n",
       "    .dataframe tbody tr th:only-of-type {\n",
       "        vertical-align: middle;\n",
       "    }\n",
       "\n",
       "    .dataframe tbody tr th {\n",
       "        vertical-align: top;\n",
       "    }\n",
       "\n",
       "    .dataframe thead th {\n",
       "        text-align: right;\n",
       "    }\n",
       "</style>\n",
       "<table border=\"1\" class=\"dataframe\">\n",
       "  <thead>\n",
       "    <tr style=\"text-align: right;\">\n",
       "      <th></th>\n",
       "      <th>chr_id</th>\n",
       "      <th>start</th>\n",
       "      <th>stop</th>\n",
       "    </tr>\n",
       "  </thead>\n",
       "  <tbody>\n",
       "    <tr>\n",
       "      <th>0</th>\n",
       "      <td>chr1</td>\n",
       "      <td>28735</td>\n",
       "      <td>29810</td>\n",
       "    </tr>\n",
       "    <tr>\n",
       "      <th>1</th>\n",
       "      <td>chr1</td>\n",
       "      <td>135124</td>\n",
       "      <td>135563</td>\n",
       "    </tr>\n",
       "    <tr>\n",
       "      <th>2</th>\n",
       "      <td>chr1</td>\n",
       "      <td>327790</td>\n",
       "      <td>328229</td>\n",
       "    </tr>\n",
       "    <tr>\n",
       "      <th>3</th>\n",
       "      <td>chr1</td>\n",
       "      <td>437151</td>\n",
       "      <td>438164</td>\n",
       "    </tr>\n",
       "    <tr>\n",
       "      <th>4</th>\n",
       "      <td>chr1</td>\n",
       "      <td>449273</td>\n",
       "      <td>450544</td>\n",
       "    </tr>\n",
       "  </tbody>\n",
       "</table>\n",
       "</div>"
      ],
      "text/plain": [
       "  chr_id   start    stop\n",
       "0   chr1   28735   29810\n",
       "1   chr1  135124  135563\n",
       "2   chr1  327790  328229\n",
       "3   chr1  437151  438164\n",
       "4   chr1  449273  450544"
      ]
     },
     "execution_count": 284,
     "metadata": {},
     "output_type": "execute_result"
    }
   ],
   "source": [
    "cpg_island_df.head()"
   ]
  },
  {
   "cell_type": "code",
   "execution_count": 285,
   "metadata": {},
   "outputs": [
    {
     "data": {
      "text/html": [
       "<div>\n",
       "<style scoped>\n",
       "    .dataframe tbody tr th:only-of-type {\n",
       "        vertical-align: middle;\n",
       "    }\n",
       "\n",
       "    .dataframe tbody tr th {\n",
       "        vertical-align: top;\n",
       "    }\n",
       "\n",
       "    .dataframe thead th {\n",
       "        text-align: right;\n",
       "    }\n",
       "</style>\n",
       "<table border=\"1\" class=\"dataframe\">\n",
       "  <thead>\n",
       "    <tr style=\"text-align: right;\">\n",
       "      <th></th>\n",
       "      <th>chr_id</th>\n",
       "      <th>size</th>\n",
       "    </tr>\n",
       "  </thead>\n",
       "  <tbody>\n",
       "    <tr>\n",
       "      <th>0</th>\n",
       "      <td>chr1</td>\n",
       "      <td>249250621</td>\n",
       "    </tr>\n",
       "    <tr>\n",
       "      <th>1</th>\n",
       "      <td>chr10</td>\n",
       "      <td>135534747</td>\n",
       "    </tr>\n",
       "    <tr>\n",
       "      <th>2</th>\n",
       "      <td>chr11</td>\n",
       "      <td>135006516</td>\n",
       "    </tr>\n",
       "    <tr>\n",
       "      <th>3</th>\n",
       "      <td>chr12</td>\n",
       "      <td>133851895</td>\n",
       "    </tr>\n",
       "    <tr>\n",
       "      <th>4</th>\n",
       "      <td>chr13</td>\n",
       "      <td>115169878</td>\n",
       "    </tr>\n",
       "  </tbody>\n",
       "</table>\n",
       "</div>"
      ],
      "text/plain": [
       "  chr_id       size\n",
       "0   chr1  249250621\n",
       "1  chr10  135534747\n",
       "2  chr11  135006516\n",
       "3  chr12  133851895\n",
       "4  chr13  115169878"
      ]
     },
     "execution_count": 285,
     "metadata": {},
     "output_type": "execute_result"
    }
   ],
   "source": [
    "chr_sizes_df.head()"
   ]
  },
  {
   "cell_type": "markdown",
   "metadata": {},
   "source": [
    "### Only autosomal chromosomes"
   ]
  },
  {
   "cell_type": "code",
   "execution_count": 286,
   "metadata": {},
   "outputs": [],
   "source": [
    "chr_ids = sorted(cpg_island_df['chr_id'].unique())"
   ]
  },
  {
   "cell_type": "code",
   "execution_count": 287,
   "metadata": {},
   "outputs": [],
   "source": [
    "autosomal_chr_ids = []\n",
    "\n",
    "for chr_id in chr_ids:\n",
    "    try:\n",
    "        num = int(chr_id[3:])\n",
    "        if num in range(1,22):\n",
    "            autosomal_chr_ids.append(chr_id)\n",
    "    except:\n",
    "        pass"
   ]
  },
  {
   "cell_type": "code",
   "execution_count": 288,
   "metadata": {},
   "outputs": [
    {
     "data": {
      "text/plain": [
       "['chr1',\n",
       " 'chr10',\n",
       " 'chr11',\n",
       " 'chr12',\n",
       " 'chr13',\n",
       " 'chr14',\n",
       " 'chr15',\n",
       " 'chr16',\n",
       " 'chr17',\n",
       " 'chr18',\n",
       " 'chr19',\n",
       " 'chr2',\n",
       " 'chr20',\n",
       " 'chr21',\n",
       " 'chr3',\n",
       " 'chr4',\n",
       " 'chr5',\n",
       " 'chr6',\n",
       " 'chr7',\n",
       " 'chr8',\n",
       " 'chr9']"
      ]
     },
     "execution_count": 288,
     "metadata": {},
     "output_type": "execute_result"
    }
   ],
   "source": [
    "autosomal_chr_ids"
   ]
  },
  {
   "cell_type": "code",
   "execution_count": 289,
   "metadata": {},
   "outputs": [],
   "source": [
    "cpg_island_df = cpg_island_df.loc[cpg_island_df.chr_id.isin(autosomal_chr_ids)]"
   ]
  },
  {
   "cell_type": "code",
   "execution_count": 290,
   "metadata": {},
   "outputs": [],
   "source": [
    "dna_methyl_df = dna_methyl_df.loc[dna_methyl_df.chr_id.isin(autosomal_chr_ids)]"
   ]
  },
  {
   "cell_type": "code",
   "execution_count": 291,
   "metadata": {},
   "outputs": [],
   "source": [
    "chr_sizes_df = chr_sizes_df.loc[chr_sizes_df.chr_id.isin(autosomal_chr_ids)]\n",
    "chr_sizes_df.to_csv(chr_sizes_path, header=None, index=False, sep=\"\\t\")"
   ]
  },
  {
   "cell_type": "markdown",
   "metadata": {},
   "source": [
    "## Finding shores, shelves and seas using pybedtools"
   ]
  },
  {
   "cell_type": "code",
   "execution_count": 292,
   "metadata": {},
   "outputs": [],
   "source": [
    "shore_size = 2000\n",
    "shelve_size = 2000"
   ]
  },
  {
   "cell_type": "markdown",
   "metadata": {},
   "source": [
    "### Create cpg.bed"
   ]
  },
  {
   "cell_type": "code",
   "execution_count": 293,
   "metadata": {},
   "outputs": [],
   "source": [
    "# transformation to pybedtool dataframe\n",
    "cpg = pybedtools.BedTool.from_dataframe(cpg_island_df).sort()"
   ]
  },
  {
   "cell_type": "code",
   "execution_count": 294,
   "metadata": {},
   "outputs": [
    {
     "name": "stdout",
     "output_type": "stream",
     "text": [
      "chr1\t28735\t29810\n",
      " chr1\t135124\t135563\n",
      " chr1\t327790\t328229\n",
      " chr1\t437151\t438164\n",
      " chr1\t449273\t450544\n",
      " chr1\t533219\t534114\n",
      " chr1\t544738\t546649\n",
      " chr1\t713984\t714547\n",
      " chr1\t762416\t763445\n",
      " chr1\t788863\t789211\n",
      " "
     ]
    }
   ],
   "source": [
    "cpg.head()"
   ]
  },
  {
   "cell_type": "code",
   "execution_count": 295,
   "metadata": {},
   "outputs": [
    {
     "data": {
      "text/plain": [
       "<BedTool(cpg.bed)>"
      ]
     },
     "execution_count": 295,
     "metadata": {},
     "output_type": "execute_result"
    }
   ],
   "source": [
    "cpg.saveas('cpg.bed') "
   ]
  },
  {
   "cell_type": "markdown",
   "metadata": {},
   "source": [
    "### Create shore.bed"
   ]
  },
  {
   "cell_type": "code",
   "execution_count": 296,
   "metadata": {},
   "outputs": [
    {
     "name": "stdout",
     "output_type": "stream",
     "text": [
      "chr1\t26735\t28735\n",
      " chr1\t29810\t31810\n",
      " chr1\t133124\t135124\n",
      " chr1\t135563\t137563\n",
      " chr1\t325790\t327790\n",
      " chr1\t328229\t330229\n",
      " chr1\t435151\t437151\n",
      " chr1\t438164\t440164\n",
      " chr1\t447273\t449273\n",
      " chr1\t450544\t452544\n",
      " "
     ]
    }
   ],
   "source": [
    "shores = cpg.flank(g=chr_sizes_path, b=shore_size).sort().merge()\n",
    "shores.head()"
   ]
  },
  {
   "cell_type": "code",
   "execution_count": 297,
   "metadata": {},
   "outputs": [
    {
     "data": {
      "text/plain": [
       "<BedTool(shores.bed)>"
      ]
     },
     "execution_count": 297,
     "metadata": {},
     "output_type": "execute_result"
    }
   ],
   "source": [
    "shores.saveas('shores.bed')"
   ]
  },
  {
   "cell_type": "markdown",
   "metadata": {},
   "source": [
    "### Create shelve.bed"
   ]
  },
  {
   "cell_type": "code",
   "execution_count": 298,
   "metadata": {},
   "outputs": [
    {
     "name": "stdout",
     "output_type": "stream",
     "text": [
      "chr1\t24735\t26735\n",
      " chr1\t31810\t33810\n",
      " chr1\t131124\t133124\n",
      " chr1\t137563\t139563\n",
      " chr1\t323790\t325790\n",
      " chr1\t330229\t332229\n",
      " chr1\t433151\t435151\n",
      " chr1\t440164\t442164\n",
      " chr1\t445273\t447273\n",
      " chr1\t452544\t454544\n",
      " "
     ]
    }
   ],
   "source": [
    "shelves = cpg.slop(g=chr_sizes_path, b=shore_size).flank(g=chr_sizes_path, b=shelve_size).sort().merge()\n",
    "shelves.head()"
   ]
  },
  {
   "cell_type": "code",
   "execution_count": 299,
   "metadata": {},
   "outputs": [
    {
     "data": {
      "text/plain": [
       "<BedTool(shelves.bed)>"
      ]
     },
     "execution_count": 299,
     "metadata": {},
     "output_type": "execute_result"
    }
   ],
   "source": [
    "shelves.saveas('shelves.bed')"
   ]
  },
  {
   "cell_type": "markdown",
   "metadata": {},
   "source": [
    "### Create sea.bed"
   ]
  },
  {
   "cell_type": "code",
   "execution_count": 300,
   "metadata": {},
   "outputs": [
    {
     "name": "stdout",
     "output_type": "stream",
     "text": [
      "chr1\t0\t24735\n",
      " chr1\t33810\t131124\n",
      " chr1\t139563\t323790\n",
      " chr1\t332229\t433151\n",
      " chr1\t442164\t445273\n",
      " chr1\t454544\t529219\n",
      " chr1\t538114\t540738\n",
      " chr1\t550649\t709984\n",
      " chr1\t718547\t758416\n",
      " chr1\t767445\t784863\n",
      " "
     ]
    }
   ],
   "source": [
    "seas = cpg.slop(g=chr_sizes_path, b=shore_size+shelve_size).merge().complement(g=chr_sizes_path)\n",
    "seas.head()"
   ]
  },
  {
   "cell_type": "code",
   "execution_count": 301,
   "metadata": {},
   "outputs": [
    {
     "data": {
      "text/plain": [
       "<BedTool(seas.bed)>"
      ]
     },
     "execution_count": 301,
     "metadata": {},
     "output_type": "execute_result"
    }
   ],
   "source": [
    "seas.saveas('seas.bed')"
   ]
  },
  {
   "cell_type": "markdown",
   "metadata": {},
   "source": [
    "## Prepare plot"
   ]
  },
  {
   "cell_type": "code",
   "execution_count": 302,
   "metadata": {},
   "outputs": [
    {
     "data": {
      "text/html": [
       "<div>\n",
       "<style scoped>\n",
       "    .dataframe tbody tr th:only-of-type {\n",
       "        vertical-align: middle;\n",
       "    }\n",
       "\n",
       "    .dataframe tbody tr th {\n",
       "        vertical-align: top;\n",
       "    }\n",
       "\n",
       "    .dataframe thead th {\n",
       "        text-align: right;\n",
       "    }\n",
       "</style>\n",
       "<table border=\"1\" class=\"dataframe\">\n",
       "  <thead>\n",
       "    <tr style=\"text-align: right;\">\n",
       "      <th></th>\n",
       "      <th>chr_id</th>\n",
       "      <th>start</th>\n",
       "      <th>stop</th>\n",
       "      <th>middle</th>\n",
       "    </tr>\n",
       "  </thead>\n",
       "  <tbody>\n",
       "    <tr>\n",
       "      <th>256612</th>\n",
       "      <td>chr1</td>\n",
       "      <td>15865</td>\n",
       "      <td>15915</td>\n",
       "      <td>15890</td>\n",
       "    </tr>\n",
       "    <tr>\n",
       "      <th>259522</th>\n",
       "      <td>chr1</td>\n",
       "      <td>18827</td>\n",
       "      <td>18877</td>\n",
       "      <td>18852</td>\n",
       "    </tr>\n",
       "    <tr>\n",
       "      <th>225316</th>\n",
       "      <td>chr1</td>\n",
       "      <td>29407</td>\n",
       "      <td>29457</td>\n",
       "      <td>29432</td>\n",
       "    </tr>\n",
       "    <tr>\n",
       "      <th>372828</th>\n",
       "      <td>chr1</td>\n",
       "      <td>29425</td>\n",
       "      <td>29475</td>\n",
       "      <td>29450</td>\n",
       "    </tr>\n",
       "    <tr>\n",
       "      <th>8075</th>\n",
       "      <td>chr1</td>\n",
       "      <td>29435</td>\n",
       "      <td>29485</td>\n",
       "      <td>29460</td>\n",
       "    </tr>\n",
       "  </tbody>\n",
       "</table>\n",
       "</div>"
      ],
      "text/plain": [
       "       chr_id  start   stop  middle\n",
       "256612   chr1  15865  15915   15890\n",
       "259522   chr1  18827  18877   18852\n",
       "225316   chr1  29407  29457   29432\n",
       "372828   chr1  29425  29475   29450\n",
       "8075     chr1  29435  29485   29460"
      ]
     },
     "execution_count": 302,
     "metadata": {},
     "output_type": "execute_result"
    }
   ],
   "source": [
    "dna_methyl_df.head()"
   ]
  },
  {
   "cell_type": "code",
   "execution_count": 303,
   "metadata": {},
   "outputs": [
    {
     "data": {
      "text/plain": [
       "(462368, 4)"
      ]
     },
     "execution_count": 303,
     "metadata": {},
     "output_type": "execute_result"
    }
   ],
   "source": [
    "dna_methyl_df.shape"
   ]
  },
  {
   "cell_type": "code",
   "execution_count": 304,
   "metadata": {},
   "outputs": [
    {
     "data": {
      "text/html": [
       "<div>\n",
       "<style scoped>\n",
       "    .dataframe tbody tr th:only-of-type {\n",
       "        vertical-align: middle;\n",
       "    }\n",
       "\n",
       "    .dataframe tbody tr th {\n",
       "        vertical-align: top;\n",
       "    }\n",
       "\n",
       "    .dataframe thead th {\n",
       "        text-align: right;\n",
       "    }\n",
       "</style>\n",
       "<table border=\"1\" class=\"dataframe\">\n",
       "  <thead>\n",
       "    <tr style=\"text-align: right;\">\n",
       "      <th></th>\n",
       "      <th>chr_id</th>\n",
       "      <th>middle</th>\n",
       "      <th>middle_stop</th>\n",
       "    </tr>\n",
       "  </thead>\n",
       "  <tbody>\n",
       "    <tr>\n",
       "      <th>256612</th>\n",
       "      <td>chr1</td>\n",
       "      <td>15890</td>\n",
       "      <td>15891</td>\n",
       "    </tr>\n",
       "    <tr>\n",
       "      <th>259522</th>\n",
       "      <td>chr1</td>\n",
       "      <td>18852</td>\n",
       "      <td>18853</td>\n",
       "    </tr>\n",
       "    <tr>\n",
       "      <th>225316</th>\n",
       "      <td>chr1</td>\n",
       "      <td>29432</td>\n",
       "      <td>29433</td>\n",
       "    </tr>\n",
       "    <tr>\n",
       "      <th>372828</th>\n",
       "      <td>chr1</td>\n",
       "      <td>29450</td>\n",
       "      <td>29451</td>\n",
       "    </tr>\n",
       "    <tr>\n",
       "      <th>8075</th>\n",
       "      <td>chr1</td>\n",
       "      <td>29460</td>\n",
       "      <td>29461</td>\n",
       "    </tr>\n",
       "  </tbody>\n",
       "</table>\n",
       "</div>"
      ],
      "text/plain": [
       "       chr_id  middle  middle_stop\n",
       "256612   chr1   15890        15891\n",
       "259522   chr1   18852        18853\n",
       "225316   chr1   29432        29433\n",
       "372828   chr1   29450        29451\n",
       "8075     chr1   29460        29461"
      ]
     },
     "execution_count": 304,
     "metadata": {},
     "output_type": "execute_result"
    }
   ],
   "source": [
    "dna_methyl_df['middle_stop'] = dna_methyl_df['middle']+1\n",
    "dna_methyl_df = dna_methyl_df.drop(['start', 'stop'], axis = 1)\n",
    "dna_methyl_df.head()"
   ]
  },
  {
   "cell_type": "code",
   "execution_count": 305,
   "metadata": {},
   "outputs": [
    {
     "data": {
      "text/plain": [
       "<BedTool(dna_methyl_df.bed)>"
      ]
     },
     "execution_count": 305,
     "metadata": {},
     "output_type": "execute_result"
    }
   ],
   "source": [
    "dna_methyl_df = pybedtools.BedTool.from_dataframe(dna_methyl_df).sort()\n",
    "dna_methyl_df.saveas('dna_methyl_df.bed')"
   ]
  },
  {
   "cell_type": "code",
   "execution_count": 306,
   "metadata": {},
   "outputs": [],
   "source": [
    "cpg_count = len(dna_methyl_df.intersect(b=cpg,u=True))\n",
    "shore_count = len(dna_methyl_df.intersect(b=shores,u=True))\n",
    "shelve_count = len(dna_methyl_df.intersect(b=shelves,u=True))\n",
    "sea_count = len(dna_methyl_df.intersect(b=seas,u=True))"
   ]
  },
  {
   "cell_type": "code",
   "execution_count": 307,
   "metadata": {},
   "outputs": [
    {
     "data": {
      "text/html": [
       "<div>\n",
       "<style scoped>\n",
       "    .dataframe tbody tr th:only-of-type {\n",
       "        vertical-align: middle;\n",
       "    }\n",
       "\n",
       "    .dataframe tbody tr th {\n",
       "        vertical-align: top;\n",
       "    }\n",
       "\n",
       "    .dataframe thead th {\n",
       "        text-align: right;\n",
       "    }\n",
       "</style>\n",
       "<table border=\"1\" class=\"dataframe\">\n",
       "  <thead>\n",
       "    <tr style=\"text-align: right;\">\n",
       "      <th></th>\n",
       "      <th>Region</th>\n",
       "      <th>Count</th>\n",
       "      <th>Percentage</th>\n",
       "    </tr>\n",
       "  </thead>\n",
       "  <tbody>\n",
       "    <tr>\n",
       "      <th>0</th>\n",
       "      <td>Cpg</td>\n",
       "      <td>128887</td>\n",
       "      <td>0.249</td>\n",
       "    </tr>\n",
       "    <tr>\n",
       "      <th>1</th>\n",
       "      <td>Shore</td>\n",
       "      <td>137234</td>\n",
       "      <td>0.265</td>\n",
       "    </tr>\n",
       "    <tr>\n",
       "      <th>2</th>\n",
       "      <td>Shelve</td>\n",
       "      <td>81965</td>\n",
       "      <td>0.159</td>\n",
       "    </tr>\n",
       "    <tr>\n",
       "      <th>3</th>\n",
       "      <td>Sea</td>\n",
       "      <td>168884</td>\n",
       "      <td>0.327</td>\n",
       "    </tr>\n",
       "  </tbody>\n",
       "</table>\n",
       "</div>"
      ],
      "text/plain": [
       "   Region   Count  Percentage\n",
       "0     Cpg  128887       0.249\n",
       "1   Shore  137234       0.265\n",
       "2  Shelve   81965       0.159\n",
       "3     Sea  168884       0.327"
      ]
     },
     "execution_count": 307,
     "metadata": {},
     "output_type": "execute_result"
    }
   ],
   "source": [
    "data = [['Cpg',cpg_count], ['Shore', shore_count], ['Shelve', shelve_count], ['Sea', sea_count]] \n",
    "counts = pd.DataFrame(data, columns = ['Region', 'Count']) \n",
    "counts['Percentage'] = round(counts['Count']/sum(counts['Count']), 3)\n",
    "counts"
   ]
  },
  {
   "cell_type": "markdown",
   "metadata": {},
   "source": [
    "## Draw plot"
   ]
  },
  {
   "cell_type": "code",
   "execution_count": 311,
   "metadata": {},
   "outputs": [
    {
     "data": {
      "image/png": "[encoded data removed]",
      "text/plain": [
       "<Figure size 432x288 with 1 Axes>"
      ]
     },
     "metadata": {
      "needs_background": "light"
     },
     "output_type": "display_data"
    }
   ],
   "source": [
    "y_pos = np.arange(len(counts['Region']))\n",
    "\n",
    "plt.bar(y_pos, counts['Count'])\n",
    "\n",
    "plt.xticks(y_pos, counts['Region'])\n",
    "xlocs, xlabs = plt.xticks()\n",
    "\n",
    "for i, h, v in zip(range(len(counts['Percentage'])), counts['Count'], counts['Percentage']):\n",
    "    plt.text(xlocs[i] - 0.25, h + 1500, str(v))\n",
    "\n",
    "plt.title(\"Counts of DNA methylations in CpG islands, shores, shelves and seas\\n\")\n",
    "plt.show()"
   ]
  },
  {
   "cell_type": "code",
   "execution_count": null,
   "metadata": {},
   "outputs": [],
   "source": []
  },
  {
   "cell_type": "code",
   "execution_count": null,
   "metadata": {},
   "outputs": [],
   "source": []
  }
 ],
 "metadata": {
  "kernelspec": {
   "display_name": "Python 3",
   "language": "python",
   "name": "python3"
  },
  "language_info": {
   "codemirror_mode": {
    "name": "ipython",
    "version": 3
   },
   "file_extension": ".py",
   "mimetype": "text/x-python",
   "name": "python",
   "nbconvert_exporter": "python",
   "pygments_lexer": "ipython3",
   "version": "3.7.3"
  }
 },
 "nbformat": 4,
 "nbformat_minor": 2
}
