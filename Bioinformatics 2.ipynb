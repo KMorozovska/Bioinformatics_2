{
 "cells": [
  {
   "cell_type": "code",
   "execution_count": 1,
   "metadata": {},
   "outputs": [],
   "source": [
    "import pandas as pd\n",
    "import numpy as np\n",
    "import pybedtools\n",
    "import matplotlib.pyplot as plt"
   ]
  },
  {
   "cell_type": "markdown",
   "metadata": {},
   "source": [
    "## Import data"
   ]
  },
  {
   "cell_type": "code",
   "execution_count": 4,
   "metadata": {},
   "outputs": [],
   "source": [
    "chr_sizes_path = \"./chromosome_sizes.txt\"\n",
    "cpg_island_path = \"./cpgIslandExt.txt\"\n",
    "dna_methyl_path = \"./wgEncodeHaibMethyl450A549Etoh02SitesRep1.bed\""
   ]
  },
  {
   "cell_type": "code",
   "execution_count": 5,
   "metadata": {},
   "outputs": [],
   "source": [
    "chr_sizes_df = pd.read_csv(chr_sizes_path, sep='\\t', header=None)\n",
    "cpg_island_df = pd.read_csv(cpg_island_path, sep='\\t', header=None)\n",
    "dna_methyl_df = pd.read_csv(dna_methyl_path, sep='\\t', header=None)"
   ]
  },
  {
   "cell_type": "code",
   "execution_count": 104,
   "metadata": {},
   "outputs": [
    {
     "data": {
      "text/html": [
       "<div>\n",
       "<style scoped>\n",
       "    .dataframe tbody tr th:only-of-type {\n",
       "        vertical-align: middle;\n",
       "    }\n",
       "\n",
       "    .dataframe tbody tr th {\n",
       "        vertical-align: top;\n",
       "    }\n",
       "\n",
       "    .dataframe thead th {\n",
       "        text-align: right;\n",
       "    }\n",
       "</style>\n",
       "<table border=\"1\" class=\"dataframe\">\n",
       "  <thead>\n",
       "    <tr style=\"text-align: right;\">\n",
       "      <th></th>\n",
       "      <th>0</th>\n",
       "      <th>1</th>\n",
       "    </tr>\n",
       "  </thead>\n",
       "  <tbody>\n",
       "    <tr>\n",
       "      <th>0</th>\n",
       "      <td>chr1</td>\n",
       "      <td>249250621</td>\n",
       "    </tr>\n",
       "    <tr>\n",
       "      <th>1</th>\n",
       "      <td>chr2</td>\n",
       "      <td>243199373</td>\n",
       "    </tr>\n",
       "    <tr>\n",
       "      <th>2</th>\n",
       "      <td>chr3</td>\n",
       "      <td>198022430</td>\n",
       "    </tr>\n",
       "    <tr>\n",
       "      <th>3</th>\n",
       "      <td>chr4</td>\n",
       "      <td>191154276</td>\n",
       "    </tr>\n",
       "    <tr>\n",
       "      <th>4</th>\n",
       "      <td>chr5</td>\n",
       "      <td>180915260</td>\n",
       "    </tr>\n",
       "  </tbody>\n",
       "</table>\n",
       "</div>"
      ],
      "text/plain": [
       "      0          1\n",
       "0  chr1  249250621\n",
       "1  chr2  243199373\n",
       "2  chr3  198022430\n",
       "3  chr4  191154276\n",
       "4  chr5  180915260"
      ]
     },
     "execution_count": 104,
     "metadata": {},
     "output_type": "execute_result"
    }
   ],
   "source": [
    "chr_sizes_df.head()"
   ]
  },
  {
   "cell_type": "code",
   "execution_count": 7,
   "metadata": {},
   "outputs": [
    {
     "data": {
      "text/html": [
       "<div>\n",
       "<style scoped>\n",
       "    .dataframe tbody tr th:only-of-type {\n",
       "        vertical-align: middle;\n",
       "    }\n",
       "\n",
       "    .dataframe tbody tr th {\n",
       "        vertical-align: top;\n",
       "    }\n",
       "\n",
       "    .dataframe thead th {\n",
       "        text-align: right;\n",
       "    }\n",
       "</style>\n",
       "<table border=\"1\" class=\"dataframe\">\n",
       "  <thead>\n",
       "    <tr style=\"text-align: right;\">\n",
       "      <th></th>\n",
       "      <th>0</th>\n",
       "      <th>1</th>\n",
       "      <th>2</th>\n",
       "      <th>3</th>\n",
       "      <th>4</th>\n",
       "      <th>5</th>\n",
       "      <th>6</th>\n",
       "      <th>7</th>\n",
       "      <th>8</th>\n",
       "      <th>9</th>\n",
       "      <th>10</th>\n",
       "    </tr>\n",
       "  </thead>\n",
       "  <tbody>\n",
       "    <tr>\n",
       "      <th>0</th>\n",
       "      <td>585</td>\n",
       "      <td>chr1</td>\n",
       "      <td>28735</td>\n",
       "      <td>29810</td>\n",
       "      <td>CpG: 116</td>\n",
       "      <td>1075</td>\n",
       "      <td>116</td>\n",
       "      <td>787</td>\n",
       "      <td>21.6</td>\n",
       "      <td>73.2</td>\n",
       "      <td>0.83</td>\n",
       "    </tr>\n",
       "    <tr>\n",
       "      <th>1</th>\n",
       "      <td>586</td>\n",
       "      <td>chr1</td>\n",
       "      <td>135124</td>\n",
       "      <td>135563</td>\n",
       "      <td>CpG: 30</td>\n",
       "      <td>439</td>\n",
       "      <td>30</td>\n",
       "      <td>295</td>\n",
       "      <td>13.7</td>\n",
       "      <td>67.2</td>\n",
       "      <td>0.64</td>\n",
       "    </tr>\n",
       "    <tr>\n",
       "      <th>2</th>\n",
       "      <td>587</td>\n",
       "      <td>chr1</td>\n",
       "      <td>327790</td>\n",
       "      <td>328229</td>\n",
       "      <td>CpG: 29</td>\n",
       "      <td>439</td>\n",
       "      <td>29</td>\n",
       "      <td>295</td>\n",
       "      <td>13.2</td>\n",
       "      <td>67.2</td>\n",
       "      <td>0.62</td>\n",
       "    </tr>\n",
       "    <tr>\n",
       "      <th>3</th>\n",
       "      <td>588</td>\n",
       "      <td>chr1</td>\n",
       "      <td>437151</td>\n",
       "      <td>438164</td>\n",
       "      <td>CpG: 84</td>\n",
       "      <td>1013</td>\n",
       "      <td>84</td>\n",
       "      <td>734</td>\n",
       "      <td>16.6</td>\n",
       "      <td>72.5</td>\n",
       "      <td>0.64</td>\n",
       "    </tr>\n",
       "    <tr>\n",
       "      <th>4</th>\n",
       "      <td>588</td>\n",
       "      <td>chr1</td>\n",
       "      <td>449273</td>\n",
       "      <td>450544</td>\n",
       "      <td>CpG: 99</td>\n",
       "      <td>1271</td>\n",
       "      <td>99</td>\n",
       "      <td>777</td>\n",
       "      <td>15.6</td>\n",
       "      <td>61.1</td>\n",
       "      <td>0.84</td>\n",
       "    </tr>\n",
       "  </tbody>\n",
       "</table>\n",
       "</div>"
      ],
      "text/plain": [
       "    0     1       2       3         4     5    6    7     8     9     10\n",
       "0  585  chr1   28735   29810  CpG: 116  1075  116  787  21.6  73.2  0.83\n",
       "1  586  chr1  135124  135563   CpG: 30   439   30  295  13.7  67.2  0.64\n",
       "2  587  chr1  327790  328229   CpG: 29   439   29  295  13.2  67.2  0.62\n",
       "3  588  chr1  437151  438164   CpG: 84  1013   84  734  16.6  72.5  0.64\n",
       "4  588  chr1  449273  450544   CpG: 99  1271   99  777  15.6  61.1  0.84"
      ]
     },
     "execution_count": 7,
     "metadata": {},
     "output_type": "execute_result"
    }
   ],
   "source": [
    "cpg_island_df.head()"
   ]
  },
  {
   "cell_type": "code",
   "execution_count": 8,
   "metadata": {
    "scrolled": true
   },
   "outputs": [
    {
     "data": {
      "text/html": [
       "<div>\n",
       "<style scoped>\n",
       "    .dataframe tbody tr th:only-of-type {\n",
       "        vertical-align: middle;\n",
       "    }\n",
       "\n",
       "    .dataframe tbody tr th {\n",
       "        vertical-align: top;\n",
       "    }\n",
       "\n",
       "    .dataframe thead th {\n",
       "        text-align: right;\n",
       "    }\n",
       "</style>\n",
       "<table border=\"1\" class=\"dataframe\">\n",
       "  <thead>\n",
       "    <tr style=\"text-align: right;\">\n",
       "      <th></th>\n",
       "      <th>0</th>\n",
       "      <th>1</th>\n",
       "      <th>2</th>\n",
       "      <th>3</th>\n",
       "      <th>4</th>\n",
       "      <th>5</th>\n",
       "      <th>6</th>\n",
       "      <th>7</th>\n",
       "      <th>8</th>\n",
       "    </tr>\n",
       "  </thead>\n",
       "  <tbody>\n",
       "    <tr>\n",
       "      <th>0</th>\n",
       "      <td>chr16</td>\n",
       "      <td>53468112</td>\n",
       "      <td>53468162</td>\n",
       "      <td>cg00000029</td>\n",
       "      <td>486</td>\n",
       "      <td>+</td>\n",
       "      <td>53468112</td>\n",
       "      <td>53468162</td>\n",
       "      <td>128,0,128</td>\n",
       "    </tr>\n",
       "    <tr>\n",
       "      <th>1</th>\n",
       "      <td>chr3</td>\n",
       "      <td>37459206</td>\n",
       "      <td>37459256</td>\n",
       "      <td>cg00000108</td>\n",
       "      <td>916</td>\n",
       "      <td>+</td>\n",
       "      <td>37459206</td>\n",
       "      <td>37459256</td>\n",
       "      <td>255,127,0</td>\n",
       "    </tr>\n",
       "    <tr>\n",
       "      <th>2</th>\n",
       "      <td>chr3</td>\n",
       "      <td>171916037</td>\n",
       "      <td>171916087</td>\n",
       "      <td>cg00000109</td>\n",
       "      <td>815</td>\n",
       "      <td>+</td>\n",
       "      <td>171916037</td>\n",
       "      <td>171916087</td>\n",
       "      <td>255,127,0</td>\n",
       "    </tr>\n",
       "    <tr>\n",
       "      <th>3</th>\n",
       "      <td>chr1</td>\n",
       "      <td>91194674</td>\n",
       "      <td>91194724</td>\n",
       "      <td>cg00000165</td>\n",
       "      <td>806</td>\n",
       "      <td>-</td>\n",
       "      <td>91194674</td>\n",
       "      <td>91194724</td>\n",
       "      <td>255,127,0</td>\n",
       "    </tr>\n",
       "    <tr>\n",
       "      <th>4</th>\n",
       "      <td>chr8</td>\n",
       "      <td>42263294</td>\n",
       "      <td>42263344</td>\n",
       "      <td>cg00000236</td>\n",
       "      <td>843</td>\n",
       "      <td>-</td>\n",
       "      <td>42263294</td>\n",
       "      <td>42263344</td>\n",
       "      <td>255,127,0</td>\n",
       "    </tr>\n",
       "  </tbody>\n",
       "</table>\n",
       "</div>"
      ],
      "text/plain": [
       "       0          1          2           3    4  5          6          7  \\\n",
       "0  chr16   53468112   53468162  cg00000029  486  +   53468112   53468162   \n",
       "1   chr3   37459206   37459256  cg00000108  916  +   37459206   37459256   \n",
       "2   chr3  171916037  171916087  cg00000109  815  +  171916037  171916087   \n",
       "3   chr1   91194674   91194724  cg00000165  806  -   91194674   91194724   \n",
       "4   chr8   42263294   42263344  cg00000236  843  -   42263294   42263344   \n",
       "\n",
       "           8  \n",
       "0  128,0,128  \n",
       "1  255,127,0  \n",
       "2  255,127,0  \n",
       "3  255,127,0  \n",
       "4  255,127,0  "
      ]
     },
     "execution_count": 8,
     "metadata": {},
     "output_type": "execute_result"
    }
   ],
   "source": [
    "dna_methyl_df.head()"
   ]
  },
  {
   "cell_type": "markdown",
   "metadata": {},
   "source": [
    "## Prepare right dataframes"
   ]
  },
  {
   "cell_type": "code",
   "execution_count": 9,
   "metadata": {},
   "outputs": [],
   "source": [
    "cpg_island_df = cpg_island_df[[1,2,3]].rename({1:'chr_id', 2:'start', 3:'stop'}, axis=1).sort_values(by=['chr_id', 'start'])"
   ]
  },
  {
   "cell_type": "code",
   "execution_count": 10,
   "metadata": {},
   "outputs": [],
   "source": [
    "dna_methyl_df = dna_methyl_df[[0,1,2]].rename({0:'chr_id', 1:'start', 2:'stop'}, axis=1).sort_values(by=['chr_id', 'start'])"
   ]
  },
  {
   "cell_type": "code",
   "execution_count": 106,
   "metadata": {},
   "outputs": [],
   "source": [
    "chr_sizes_df = chr_sizes_df.rename({0:'chr_id', 1:'size'}, axis=1).sort_values(by=['chr_id'])"
   ]
  },
  {
   "cell_type": "code",
   "execution_count": 44,
   "metadata": {},
   "outputs": [],
   "source": [
    "dna_methyl_df['middle'] = dna_methyl_df['start']+((dna_methyl_df['stop'] - dna_methyl_df['start'])/2).astype(int)"
   ]
  },
  {
   "cell_type": "code",
   "execution_count": 45,
   "metadata": {},
   "outputs": [
    {
     "data": {
      "text/html": [
       "<div>\n",
       "<style scoped>\n",
       "    .dataframe tbody tr th:only-of-type {\n",
       "        vertical-align: middle;\n",
       "    }\n",
       "\n",
       "    .dataframe tbody tr th {\n",
       "        vertical-align: top;\n",
       "    }\n",
       "\n",
       "    .dataframe thead th {\n",
       "        text-align: right;\n",
       "    }\n",
       "</style>\n",
       "<table border=\"1\" class=\"dataframe\">\n",
       "  <thead>\n",
       "    <tr style=\"text-align: right;\">\n",
       "      <th></th>\n",
       "      <th>chr_id</th>\n",
       "      <th>middle</th>\n",
       "    </tr>\n",
       "  </thead>\n",
       "  <tbody>\n",
       "    <tr>\n",
       "      <th>0</th>\n",
       "      <td>chr1</td>\n",
       "      <td>1.012691e+08</td>\n",
       "    </tr>\n",
       "    <tr>\n",
       "      <th>1</th>\n",
       "      <td>chr10</td>\n",
       "      <td>7.670546e+07</td>\n",
       "    </tr>\n",
       "    <tr>\n",
       "      <th>2</th>\n",
       "      <td>chr11</td>\n",
       "      <td>6.094695e+07</td>\n",
       "    </tr>\n",
       "    <tr>\n",
       "      <th>3</th>\n",
       "      <td>chr12</td>\n",
       "      <td>7.372054e+07</td>\n",
       "    </tr>\n",
       "    <tr>\n",
       "      <th>4</th>\n",
       "      <td>chr13</td>\n",
       "      <td>7.151071e+07</td>\n",
       "    </tr>\n",
       "  </tbody>\n",
       "</table>\n",
       "</div>"
      ],
      "text/plain": [
       "  chr_id        middle\n",
       "0   chr1  1.012691e+08\n",
       "1  chr10  7.670546e+07\n",
       "2  chr11  6.094695e+07\n",
       "3  chr12  7.372054e+07\n",
       "4  chr13  7.151071e+07"
      ]
     },
     "execution_count": 45,
     "metadata": {},
     "output_type": "execute_result"
    }
   ],
   "source": [
    "dna_methyl_df.groupby('chr_id')['middle'].mean().reset_index().head()"
   ]
  },
  {
   "cell_type": "code",
   "execution_count": 22,
   "metadata": {
    "scrolled": true
   },
   "outputs": [
    {
     "data": {
      "text/html": [
       "<div>\n",
       "<style scoped>\n",
       "    .dataframe tbody tr th:only-of-type {\n",
       "        vertical-align: middle;\n",
       "    }\n",
       "\n",
       "    .dataframe tbody tr th {\n",
       "        vertical-align: top;\n",
       "    }\n",
       "\n",
       "    .dataframe thead th {\n",
       "        text-align: right;\n",
       "    }\n",
       "</style>\n",
       "<table border=\"1\" class=\"dataframe\">\n",
       "  <thead>\n",
       "    <tr style=\"text-align: right;\">\n",
       "      <th></th>\n",
       "      <th>chr_id</th>\n",
       "      <th>start</th>\n",
       "      <th>stop</th>\n",
       "    </tr>\n",
       "  </thead>\n",
       "  <tbody>\n",
       "    <tr>\n",
       "      <th>0</th>\n",
       "      <td>chr1</td>\n",
       "      <td>28735</td>\n",
       "      <td>29810</td>\n",
       "    </tr>\n",
       "    <tr>\n",
       "      <th>1</th>\n",
       "      <td>chr1</td>\n",
       "      <td>135124</td>\n",
       "      <td>135563</td>\n",
       "    </tr>\n",
       "    <tr>\n",
       "      <th>2</th>\n",
       "      <td>chr1</td>\n",
       "      <td>327790</td>\n",
       "      <td>328229</td>\n",
       "    </tr>\n",
       "    <tr>\n",
       "      <th>3</th>\n",
       "      <td>chr1</td>\n",
       "      <td>437151</td>\n",
       "      <td>438164</td>\n",
       "    </tr>\n",
       "    <tr>\n",
       "      <th>4</th>\n",
       "      <td>chr1</td>\n",
       "      <td>449273</td>\n",
       "      <td>450544</td>\n",
       "    </tr>\n",
       "  </tbody>\n",
       "</table>\n",
       "</div>"
      ],
      "text/plain": [
       "  chr_id   start    stop\n",
       "0   chr1   28735   29810\n",
       "1   chr1  135124  135563\n",
       "2   chr1  327790  328229\n",
       "3   chr1  437151  438164\n",
       "4   chr1  449273  450544"
      ]
     },
     "execution_count": 22,
     "metadata": {},
     "output_type": "execute_result"
    }
   ],
   "source": [
    "cpg_island_df.head()"
   ]
  },
  {
   "cell_type": "code",
   "execution_count": 110,
   "metadata": {},
   "outputs": [
    {
     "data": {
      "text/html": [
       "<div>\n",
       "<style scoped>\n",
       "    .dataframe tbody tr th:only-of-type {\n",
       "        vertical-align: middle;\n",
       "    }\n",
       "\n",
       "    .dataframe tbody tr th {\n",
       "        vertical-align: top;\n",
       "    }\n",
       "\n",
       "    .dataframe thead th {\n",
       "        text-align: right;\n",
       "    }\n",
       "</style>\n",
       "<table border=\"1\" class=\"dataframe\">\n",
       "  <thead>\n",
       "    <tr style=\"text-align: right;\">\n",
       "      <th></th>\n",
       "      <th>chr_id</th>\n",
       "      <th>size</th>\n",
       "    </tr>\n",
       "  </thead>\n",
       "  <tbody>\n",
       "    <tr>\n",
       "      <th>0</th>\n",
       "      <td>chr1</td>\n",
       "      <td>249250621</td>\n",
       "    </tr>\n",
       "    <tr>\n",
       "      <th>10</th>\n",
       "      <td>chr10</td>\n",
       "      <td>135534747</td>\n",
       "    </tr>\n",
       "    <tr>\n",
       "      <th>11</th>\n",
       "      <td>chr11</td>\n",
       "      <td>135006516</td>\n",
       "    </tr>\n",
       "    <tr>\n",
       "      <th>12</th>\n",
       "      <td>chr12</td>\n",
       "      <td>133851895</td>\n",
       "    </tr>\n",
       "    <tr>\n",
       "      <th>13</th>\n",
       "      <td>chr13</td>\n",
       "      <td>115169878</td>\n",
       "    </tr>\n",
       "  </tbody>\n",
       "</table>\n",
       "</div>"
      ],
      "text/plain": [
       "   chr_id       size\n",
       "0    chr1  249250621\n",
       "10  chr10  135534747\n",
       "11  chr11  135006516\n",
       "12  chr12  133851895\n",
       "13  chr13  115169878"
      ]
     },
     "execution_count": 110,
     "metadata": {},
     "output_type": "execute_result"
    }
   ],
   "source": [
    "chr_sizes_df.head()"
   ]
  },
  {
   "cell_type": "markdown",
   "metadata": {},
   "source": [
    "### Only autosomal chromosomes"
   ]
  },
  {
   "cell_type": "code",
   "execution_count": 111,
   "metadata": {},
   "outputs": [],
   "source": [
    "chr_ids = sorted(cpg_island_df['chr_id'].unique())"
   ]
  },
  {
   "cell_type": "code",
   "execution_count": 112,
   "metadata": {},
   "outputs": [],
   "source": [
    "autosomal_chr_ids = []\n",
    "\n",
    "for chr_id in chr_ids:\n",
    "    try:\n",
    "        num = int(chr_id[3:])\n",
    "        if num in range(1,22):\n",
    "            autosomal_chr_ids.append(chr_id)\n",
    "    except:\n",
    "        pass"
   ]
  },
  {
   "cell_type": "code",
   "execution_count": 113,
   "metadata": {},
   "outputs": [
    {
     "data": {
      "text/plain": [
       "['chr1',\n",
       " 'chr10',\n",
       " 'chr11',\n",
       " 'chr12',\n",
       " 'chr13',\n",
       " 'chr14',\n",
       " 'chr15',\n",
       " 'chr16',\n",
       " 'chr17',\n",
       " 'chr18',\n",
       " 'chr19',\n",
       " 'chr2',\n",
       " 'chr20',\n",
       " 'chr21',\n",
       " 'chr3',\n",
       " 'chr4',\n",
       " 'chr5',\n",
       " 'chr6',\n",
       " 'chr7',\n",
       " 'chr8',\n",
       " 'chr9']"
      ]
     },
     "execution_count": 113,
     "metadata": {},
     "output_type": "execute_result"
    }
   ],
   "source": [
    "autosomal_chr_ids"
   ]
  },
  {
   "cell_type": "code",
   "execution_count": 114,
   "metadata": {},
   "outputs": [],
   "source": [
    "cpg_island_df = cpg_island_df.loc[cpg_island_df.chr_id.isin(autosomal_chr_ids)]"
   ]
  },
  {
   "cell_type": "code",
   "execution_count": 127,
   "metadata": {},
   "outputs": [],
   "source": [
    "dna_methyl_df = dna_methyl_df.loc[dna_methyl_df.chr_id.isin(autosomal_chr_ids)]"
   ]
  },
  {
   "cell_type": "code",
   "execution_count": 115,
   "metadata": {},
   "outputs": [],
   "source": [
    "chr_sizes_df = chr_sizes_df.loc[chr_sizes_df.chr_id.isin(autosomal_chr_ids)]\n",
    "chr_sizes_df.to_csv(chr_sizes_path, header=None, index=False, sep=\"\\t\")"
   ]
  },
  {
   "cell_type": "markdown",
   "metadata": {},
   "source": [
    "## Finding shores, shelves and seas using pybedtools"
   ]
  },
  {
   "cell_type": "code",
   "execution_count": 82,
   "metadata": {},
   "outputs": [],
   "source": [
    "shore_size = 2000\n",
    "shelve_size = 2000"
   ]
  },
  {
   "cell_type": "markdown",
   "metadata": {},
   "source": [
    "### Create cpg.bed"
   ]
  },
  {
   "cell_type": "code",
   "execution_count": 100,
   "metadata": {},
   "outputs": [],
   "source": [
    "# transformation to pybedtool dataframe\n",
    "cpg = pybedtools.BedTool.from_dataframe(cpg_island_df).sort()"
   ]
  },
  {
   "cell_type": "code",
   "execution_count": 101,
   "metadata": {},
   "outputs": [
    {
     "name": "stdout",
     "output_type": "stream",
     "text": [
      "chr1\t28735\t29810\n",
      " chr1\t135124\t135563\n",
      " chr1\t327790\t328229\n",
      " chr1\t437151\t438164\n",
      " chr1\t449273\t450544\n",
      " chr1\t533219\t534114\n",
      " chr1\t544738\t546649\n",
      " chr1\t713984\t714547\n",
      " chr1\t762416\t763445\n",
      " chr1\t788863\t789211\n",
      " "
     ]
    }
   ],
   "source": [
    "cpg.head()"
   ]
  },
  {
   "cell_type": "code",
   "execution_count": 102,
   "metadata": {},
   "outputs": [
    {
     "data": {
      "text/plain": [
       "<BedTool(cpg.bed)>"
      ]
     },
     "execution_count": 102,
     "metadata": {},
     "output_type": "execute_result"
    }
   ],
   "source": [
    "cpg.saveas('cpg.bed') "
   ]
  },
  {
   "cell_type": "markdown",
   "metadata": {},
   "source": [
    "### Create shore.bed"
   ]
  },
  {
   "cell_type": "code",
   "execution_count": 176,
   "metadata": {},
   "outputs": [
    {
     "name": "stdout",
     "output_type": "stream",
     "text": [
      "chr1\t26735\t28735\n",
      " chr1\t29810\t31810\n",
      " chr1\t133124\t135124\n",
      " chr1\t135563\t137563\n",
      " chr1\t325790\t327790\n",
      " chr1\t328229\t330229\n",
      " chr1\t435151\t437151\n",
      " chr1\t438164\t440164\n",
      " chr1\t447273\t449273\n",
      " chr1\t450544\t452544\n",
      " "
     ]
    }
   ],
   "source": [
    "shores = cpg.flank(g=chr_sizes_path, b=shore_size).sort().merge()\n",
    "shores.head()"
   ]
  },
  {
   "cell_type": "code",
   "execution_count": 177,
   "metadata": {},
   "outputs": [
    {
     "data": {
      "text/plain": [
       "<BedTool(shores.bed)>"
      ]
     },
     "execution_count": 177,
     "metadata": {},
     "output_type": "execute_result"
    }
   ],
   "source": [
    "cpg.saveas('shores.bed')"
   ]
  },
  {
   "cell_type": "markdown",
   "metadata": {},
   "source": [
    "### Create shelve.bed"
   ]
  },
  {
   "cell_type": "code",
   "execution_count": 178,
   "metadata": {},
   "outputs": [
    {
     "name": "stdout",
     "output_type": "stream",
     "text": [
      "chr1\t24735\t26735\n",
      " chr1\t31810\t33810\n",
      " chr1\t131124\t133124\n",
      " chr1\t137563\t139563\n",
      " chr1\t323790\t325790\n",
      " chr1\t330229\t332229\n",
      " chr1\t433151\t435151\n",
      " chr1\t440164\t442164\n",
      " chr1\t445273\t447273\n",
      " chr1\t452544\t454544\n",
      " "
     ]
    }
   ],
   "source": [
    "shelves = cpg.slop(g=chr_sizes_path, b=shore_size).flank(g=chr_sizes_path, b=shelve_size).sort().merge()\n",
    "shelves.head()"
   ]
  },
  {
   "cell_type": "code",
   "execution_count": 179,
   "metadata": {},
   "outputs": [
    {
     "data": {
      "text/plain": [
       "<BedTool(shelves.bed)>"
      ]
     },
     "execution_count": 179,
     "metadata": {},
     "output_type": "execute_result"
    }
   ],
   "source": [
    "cpg.saveas('shelves.bed')"
   ]
  },
  {
   "cell_type": "markdown",
   "metadata": {},
   "source": [
    "### Create sea.bed"
   ]
  },
  {
   "cell_type": "code",
   "execution_count": 180,
   "metadata": {},
   "outputs": [
    {
     "name": "stdout",
     "output_type": "stream",
     "text": [
      "chr1\t0\t24735\n",
      " chr1\t33810\t131124\n",
      " chr1\t139563\t323790\n",
      " chr1\t332229\t433151\n",
      " chr1\t442164\t445273\n",
      " chr1\t454544\t529219\n",
      " chr1\t538114\t540738\n",
      " chr1\t550649\t709984\n",
      " chr1\t718547\t758416\n",
      " chr1\t767445\t784863\n",
      " "
     ]
    }
   ],
   "source": [
    "seas = cpg.slop(g=chr_sizes_path, b=shore_size+shelve_size).merge().complement(g=chr_sizes_path)\n",
    "seas.head()"
   ]
  },
  {
   "cell_type": "code",
   "execution_count": 181,
   "metadata": {},
   "outputs": [
    {
     "data": {
      "text/plain": [
       "<BedTool(seas.bed)>"
      ]
     },
     "execution_count": 181,
     "metadata": {},
     "output_type": "execute_result"
    }
   ],
   "source": [
    "cpg.saveas('seas.bed')"
   ]
  },
  {
   "cell_type": "markdown",
   "metadata": {},
   "source": [
    "## Prepare plot"
   ]
  },
  {
   "cell_type": "code",
   "execution_count": 182,
   "metadata": {},
   "outputs": [],
   "source": [
    "shores = pd.read_csv('shores.bed', sep='\\t', header=None)\n",
    "shelves = pd.read_csv('shelves.bed', sep='\\t', header=None)\n",
    "seas = pd.read_csv('seas.bed', sep='\\t', header=None)"
   ]
  },
  {
   "cell_type": "code",
   "execution_count": 183,
   "metadata": {},
   "outputs": [],
   "source": [
    "shores = shores.rename({0:'chr_id', 1:'start', 2:'stop'}, axis=1).sort_values(by=['chr_id', 'start'])\n",
    "shelves = shelves.rename({0:'chr_id', 1:'start', 2:'stop'}, axis=1).sort_values(by=['chr_id', 'start'])\n",
    "seas = seas.rename({0:'chr_id', 1:'start', 2:'stop'}, axis=1).sort_values(by=['chr_id', 'start'])"
   ]
  },
  {
   "cell_type": "code",
   "execution_count": 184,
   "metadata": {},
   "outputs": [
    {
     "data": {
      "text/html": [
       "<div>\n",
       "<style scoped>\n",
       "    .dataframe tbody tr th:only-of-type {\n",
       "        vertical-align: middle;\n",
       "    }\n",
       "\n",
       "    .dataframe tbody tr th {\n",
       "        vertical-align: top;\n",
       "    }\n",
       "\n",
       "    .dataframe thead th {\n",
       "        text-align: right;\n",
       "    }\n",
       "</style>\n",
       "<table border=\"1\" class=\"dataframe\">\n",
       "  <thead>\n",
       "    <tr style=\"text-align: right;\">\n",
       "      <th></th>\n",
       "      <th>chr_id</th>\n",
       "      <th>start</th>\n",
       "      <th>stop</th>\n",
       "    </tr>\n",
       "  </thead>\n",
       "  <tbody>\n",
       "    <tr>\n",
       "      <th>0</th>\n",
       "      <td>chr1</td>\n",
       "      <td>28735</td>\n",
       "      <td>29810</td>\n",
       "    </tr>\n",
       "    <tr>\n",
       "      <th>1</th>\n",
       "      <td>chr1</td>\n",
       "      <td>135124</td>\n",
       "      <td>135563</td>\n",
       "    </tr>\n",
       "    <tr>\n",
       "      <th>2</th>\n",
       "      <td>chr1</td>\n",
       "      <td>327790</td>\n",
       "      <td>328229</td>\n",
       "    </tr>\n",
       "    <tr>\n",
       "      <th>3</th>\n",
       "      <td>chr1</td>\n",
       "      <td>437151</td>\n",
       "      <td>438164</td>\n",
       "    </tr>\n",
       "    <tr>\n",
       "      <th>4</th>\n",
       "      <td>chr1</td>\n",
       "      <td>449273</td>\n",
       "      <td>450544</td>\n",
       "    </tr>\n",
       "  </tbody>\n",
       "</table>\n",
       "</div>"
      ],
      "text/plain": [
       "  chr_id   start    stop\n",
       "0   chr1   28735   29810\n",
       "1   chr1  135124  135563\n",
       "2   chr1  327790  328229\n",
       "3   chr1  437151  438164\n",
       "4   chr1  449273  450544"
      ]
     },
     "execution_count": 184,
     "metadata": {},
     "output_type": "execute_result"
    }
   ],
   "source": [
    "shores.head()"
   ]
  },
  {
   "cell_type": "code",
   "execution_count": 198,
   "metadata": {},
   "outputs": [
    {
     "data": {
      "text/html": [
       "<div>\n",
       "<style scoped>\n",
       "    .dataframe tbody tr th:only-of-type {\n",
       "        vertical-align: middle;\n",
       "    }\n",
       "\n",
       "    .dataframe tbody tr th {\n",
       "        vertical-align: top;\n",
       "    }\n",
       "\n",
       "    .dataframe thead th {\n",
       "        text-align: right;\n",
       "    }\n",
       "</style>\n",
       "<table border=\"1\" class=\"dataframe\">\n",
       "  <thead>\n",
       "    <tr style=\"text-align: right;\">\n",
       "      <th></th>\n",
       "      <th>chr_id</th>\n",
       "      <th>start</th>\n",
       "      <th>stop</th>\n",
       "      <th>middle</th>\n",
       "    </tr>\n",
       "  </thead>\n",
       "  <tbody>\n",
       "    <tr>\n",
       "      <th>256612</th>\n",
       "      <td>chr1</td>\n",
       "      <td>15865</td>\n",
       "      <td>15915</td>\n",
       "      <td>15890</td>\n",
       "    </tr>\n",
       "    <tr>\n",
       "      <th>259522</th>\n",
       "      <td>chr1</td>\n",
       "      <td>18827</td>\n",
       "      <td>18877</td>\n",
       "      <td>18852</td>\n",
       "    </tr>\n",
       "    <tr>\n",
       "      <th>225316</th>\n",
       "      <td>chr1</td>\n",
       "      <td>29407</td>\n",
       "      <td>29457</td>\n",
       "      <td>29432</td>\n",
       "    </tr>\n",
       "    <tr>\n",
       "      <th>372828</th>\n",
       "      <td>chr1</td>\n",
       "      <td>29425</td>\n",
       "      <td>29475</td>\n",
       "      <td>29450</td>\n",
       "    </tr>\n",
       "    <tr>\n",
       "      <th>8075</th>\n",
       "      <td>chr1</td>\n",
       "      <td>29435</td>\n",
       "      <td>29485</td>\n",
       "      <td>29460</td>\n",
       "    </tr>\n",
       "  </tbody>\n",
       "</table>\n",
       "</div>"
      ],
      "text/plain": [
       "       chr_id  start   stop  middle\n",
       "256612   chr1  15865  15915   15890\n",
       "259522   chr1  18827  18877   18852\n",
       "225316   chr1  29407  29457   29432\n",
       "372828   chr1  29425  29475   29450\n",
       "8075     chr1  29435  29485   29460"
      ]
     },
     "execution_count": 198,
     "metadata": {},
     "output_type": "execute_result"
    }
   ],
   "source": [
    "dna_methyl_df.head()"
   ]
  },
  {
   "cell_type": "code",
   "execution_count": 199,
   "metadata": {},
   "outputs": [
    {
     "data": {
      "text/plain": [
       "(462368, 4)"
      ]
     },
     "execution_count": 199,
     "metadata": {},
     "output_type": "execute_result"
    }
   ],
   "source": [
    "dna_methyl_df.shape"
   ]
  },
  {
   "cell_type": "code",
   "execution_count": 186,
   "metadata": {},
   "outputs": [],
   "source": [
    "chromosomes = dna_methyl_df['chr_id'].unique()"
   ]
  },
  {
   "cell_type": "code",
   "execution_count": null,
   "metadata": {
    "scrolled": true
   },
   "outputs": [
    {
     "name": "stdout",
     "output_type": "stream",
     "text": [
      "chromosome selected: chr1\n"
     ]
    }
   ],
   "source": [
    "shore_count = 0\n",
    "shelve_count = 0\n",
    "sea_count = 0\n",
    "\n",
    "for chromosome in chromosomes:\n",
    "    temp_dna_met = dna_methyl_df.loc[dna_methyl_df['chr_id'] == chromosome]\n",
    "    temp_shores = shores.loc[shores['chr_id'] == chromosome]\n",
    "    temp_shelves = shelves.loc[shelves['chr_id'] == chromosome]\n",
    "    temp_seas = seas.loc[seas['chr_id'] == chromosome]\n",
    "    \n",
    "    print(\"chromosome selected: \" + chromosome)\n",
    "    \n",
    "    for i, dna_met in temp_dna_met.iterrows():\n",
    "        \n",
    "        x = dna_met['middle']\n",
    "        \n",
    "        for i, shore_ in temp_shores.iterrows():\n",
    "            \n",
    "            if (x >= shore_['start']) and (x <= shore_['stop']):\n",
    "                #print(x)\n",
    "                #print(shore_['start'])\n",
    "                #print(shore_['stop'])\n",
    "                \n",
    "                #print(\"True\")\n",
    "                shore_count += 1\n",
    "                \n",
    "                \n",
    "        for i, shelve_ in temp_shelves.iterrows():\n",
    "            \n",
    "            if (x >= shelve_['start']) and (x <= shelve_['stop']):\n",
    "                #print(x)\n",
    "                #print(shelve_['start'])\n",
    "                #print(shelve_['stop'])\n",
    "                \n",
    "                #print(\"True\")\n",
    "                shelve_count += 1\n",
    "    \n",
    "        \n",
    "        for i, sea_ in temp_seas.iterrows():\n",
    "            \n",
    "            if (x >= sea_['start']) and (x <= sea_['stop']):\n",
    "                #print(x)\n",
    "                #print(sea_['start'])\n",
    "                #print(sea_['stop'])\n",
    "                \n",
    "                #print(\"True\")\n",
    "                sea_count += 1\n",
    "               "
   ]
  },
  {
   "cell_type": "code",
   "execution_count": null,
   "metadata": {},
   "outputs": [],
   "source": []
  },
  {
   "cell_type": "markdown",
   "metadata": {},
   "source": [
    "## Draw plot"
   ]
  },
  {
   "cell_type": "code",
   "execution_count": null,
   "metadata": {},
   "outputs": [],
   "source": [
    "height = [shore_count, shelve_count, sea_count]\n",
    "bars = ('Shore', 'Shelve', 'Sea')\n",
    "y_pos = np.arange(len(bars))\n",
    " \n",
    "# Create bars\n",
    "plt.bar(y_pos, height)\n",
    "\n",
    "# Create names on the x-axis\n",
    "plt.xticks(y_pos, bars)\n",
    " \n",
    "# Show graphic\n",
    "plt.show()"
   ]
  },
  {
   "cell_type": "code",
   "execution_count": null,
   "metadata": {},
   "outputs": [],
   "source": []
  },
  {
   "cell_type": "code",
   "execution_count": null,
   "metadata": {},
   "outputs": [],
   "source": []
  },
  {
   "cell_type": "code",
   "execution_count": null,
   "metadata": {},
   "outputs": [],
   "source": []
  },
  {
   "cell_type": "code",
   "execution_count": null,
   "metadata": {},
   "outputs": [],
   "source": []
  },
  {
   "cell_type": "code",
   "execution_count": null,
   "metadata": {},
   "outputs": [],
   "source": []
  },
  {
   "cell_type": "code",
   "execution_count": null,
   "metadata": {},
   "outputs": [],
   "source": []
  },
  {
   "cell_type": "code",
   "execution_count": null,
   "metadata": {},
   "outputs": [],
   "source": []
  },
  {
   "cell_type": "code",
   "execution_count": null,
   "metadata": {},
   "outputs": [],
   "source": []
  }
 ],
 "metadata": {
  "kernelspec": {
   "display_name": "Python 3",
   "language": "python",
   "name": "python3"
  },
  "language_info": {
   "codemirror_mode": {
    "name": "ipython",
    "version": 3
   },
   "file_extension": ".py",
   "mimetype": "text/x-python",
   "name": "python",
   "nbconvert_exporter": "python",
   "pygments_lexer": "ipython3",
   "version": "3.7.3"
  }
 },
 "nbformat": 4,
 "nbformat_minor": 2
}
